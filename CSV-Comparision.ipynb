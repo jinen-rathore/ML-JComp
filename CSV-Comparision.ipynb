{
 "cells": [
  {
   "cell_type": "code",
   "execution_count": 1,
   "id": "17153301",
   "metadata": {},
   "outputs": [],
   "source": [
    "import pandas as pd\n",
    "import numpy as np"
   ]
  },
  {
   "cell_type": "code",
   "execution_count": 2,
   "id": "8dcacc87",
   "metadata": {},
   "outputs": [],
   "source": [
    "true_df = pd.read_csv(\"true_preds.csv\")\n",
    "user_df = pd.read_csv(\"user_preds.csv\")"
   ]
  },
  {
   "cell_type": "code",
   "execution_count": 6,
   "id": "a2afe92b",
   "metadata": {},
   "outputs": [],
   "source": [
    "df = pd.merge(true_df, user_df, on = \"ID's\")"
   ]
  },
  {
   "cell_type": "code",
   "execution_count": 8,
   "id": "a886a18b",
   "metadata": {},
   "outputs": [
    {
     "data": {
      "text/html": [
       "<div>\n",
       "<style scoped>\n",
       "    .dataframe tbody tr th:only-of-type {\n",
       "        vertical-align: middle;\n",
       "    }\n",
       "\n",
       "    .dataframe tbody tr th {\n",
       "        vertical-align: top;\n",
       "    }\n",
       "\n",
       "    .dataframe thead th {\n",
       "        text-align: right;\n",
       "    }\n",
       "</style>\n",
       "<table border=\"1\" class=\"dataframe\">\n",
       "  <thead>\n",
       "    <tr style=\"text-align: right;\">\n",
       "      <th></th>\n",
       "      <th>ID's</th>\n",
       "      <th>Predictions_x</th>\n",
       "      <th>TestCase</th>\n",
       "      <th>Predictions_y</th>\n",
       "    </tr>\n",
       "  </thead>\n",
       "  <tbody>\n",
       "    <tr>\n",
       "      <th>0</th>\n",
       "      <td>0</td>\n",
       "      <td>1</td>\n",
       "      <td>public</td>\n",
       "      <td>1</td>\n",
       "    </tr>\n",
       "    <tr>\n",
       "      <th>1</th>\n",
       "      <td>1</td>\n",
       "      <td>1</td>\n",
       "      <td>public</td>\n",
       "      <td>1</td>\n",
       "    </tr>\n",
       "    <tr>\n",
       "      <th>2</th>\n",
       "      <td>2</td>\n",
       "      <td>1</td>\n",
       "      <td>public</td>\n",
       "      <td>1</td>\n",
       "    </tr>\n",
       "    <tr>\n",
       "      <th>3</th>\n",
       "      <td>3</td>\n",
       "      <td>1</td>\n",
       "      <td>public</td>\n",
       "      <td>0</td>\n",
       "    </tr>\n",
       "    <tr>\n",
       "      <th>4</th>\n",
       "      <td>4</td>\n",
       "      <td>1</td>\n",
       "      <td>public</td>\n",
       "      <td>1</td>\n",
       "    </tr>\n",
       "    <tr>\n",
       "      <th>5</th>\n",
       "      <td>5</td>\n",
       "      <td>1</td>\n",
       "      <td>private</td>\n",
       "      <td>1</td>\n",
       "    </tr>\n",
       "    <tr>\n",
       "      <th>6</th>\n",
       "      <td>6</td>\n",
       "      <td>1</td>\n",
       "      <td>public</td>\n",
       "      <td>0</td>\n",
       "    </tr>\n",
       "    <tr>\n",
       "      <th>7</th>\n",
       "      <td>7</td>\n",
       "      <td>1</td>\n",
       "      <td>public</td>\n",
       "      <td>0</td>\n",
       "    </tr>\n",
       "    <tr>\n",
       "      <th>8</th>\n",
       "      <td>8</td>\n",
       "      <td>1</td>\n",
       "      <td>private</td>\n",
       "      <td>0</td>\n",
       "    </tr>\n",
       "    <tr>\n",
       "      <th>9</th>\n",
       "      <td>9</td>\n",
       "      <td>1</td>\n",
       "      <td>private</td>\n",
       "      <td>0</td>\n",
       "    </tr>\n",
       "  </tbody>\n",
       "</table>\n",
       "</div>"
      ],
      "text/plain": [
       "   ID's  Predictions_x TestCase  Predictions_y\n",
       "0     0              1   public              1\n",
       "1     1              1   public              1\n",
       "2     2              1   public              1\n",
       "3     3              1   public              0\n",
       "4     4              1   public              1\n",
       "5     5              1  private              1\n",
       "6     6              1   public              0\n",
       "7     7              1   public              0\n",
       "8     8              1  private              0\n",
       "9     9              1  private              0"
      ]
     },
     "execution_count": 8,
     "metadata": {},
     "output_type": "execute_result"
    }
   ],
   "source": [
    "df"
   ]
  },
  {
   "cell_type": "code",
   "execution_count": 9,
   "id": "0af8e758",
   "metadata": {},
   "outputs": [],
   "source": [
    "public_df = df[df[\"TestCase\"] == \"public\"]\n",
    "private_df = df[df[\"TestCase\"] == \"private\"]"
   ]
  },
  {
   "cell_type": "code",
   "execution_count": 14,
   "id": "f4cc7d38",
   "metadata": {},
   "outputs": [],
   "source": [
    "public_df = public_df.drop(\"TestCase\", axis = 1)\n",
    "private_df = private_df.drop(\"TestCase\", axis = 1)"
   ]
  },
  {
   "cell_type": "code",
   "execution_count": 19,
   "id": "37c4dd7d",
   "metadata": {},
   "outputs": [
    {
     "data": {
      "text/html": [
       "<div>\n",
       "<style scoped>\n",
       "    .dataframe tbody tr th:only-of-type {\n",
       "        vertical-align: middle;\n",
       "    }\n",
       "\n",
       "    .dataframe tbody tr th {\n",
       "        vertical-align: top;\n",
       "    }\n",
       "\n",
       "    .dataframe thead th {\n",
       "        text-align: right;\n",
       "    }\n",
       "</style>\n",
       "<table border=\"1\" class=\"dataframe\">\n",
       "  <thead>\n",
       "    <tr style=\"text-align: right;\">\n",
       "      <th></th>\n",
       "      <th>ID's</th>\n",
       "      <th>Predictions_x</th>\n",
       "      <th>Predictions_y</th>\n",
       "    </tr>\n",
       "  </thead>\n",
       "  <tbody>\n",
       "    <tr>\n",
       "      <th>0</th>\n",
       "      <td>0</td>\n",
       "      <td>1</td>\n",
       "      <td>1</td>\n",
       "    </tr>\n",
       "    <tr>\n",
       "      <th>1</th>\n",
       "      <td>1</td>\n",
       "      <td>1</td>\n",
       "      <td>1</td>\n",
       "    </tr>\n",
       "    <tr>\n",
       "      <th>2</th>\n",
       "      <td>2</td>\n",
       "      <td>1</td>\n",
       "      <td>1</td>\n",
       "    </tr>\n",
       "    <tr>\n",
       "      <th>3</th>\n",
       "      <td>3</td>\n",
       "      <td>1</td>\n",
       "      <td>0</td>\n",
       "    </tr>\n",
       "    <tr>\n",
       "      <th>4</th>\n",
       "      <td>4</td>\n",
       "      <td>1</td>\n",
       "      <td>1</td>\n",
       "    </tr>\n",
       "    <tr>\n",
       "      <th>6</th>\n",
       "      <td>6</td>\n",
       "      <td>1</td>\n",
       "      <td>0</td>\n",
       "    </tr>\n",
       "    <tr>\n",
       "      <th>7</th>\n",
       "      <td>7</td>\n",
       "      <td>1</td>\n",
       "      <td>0</td>\n",
       "    </tr>\n",
       "  </tbody>\n",
       "</table>\n",
       "</div>"
      ],
      "text/plain": [
       "   ID's  Predictions_x  Predictions_y\n",
       "0     0              1              1\n",
       "1     1              1              1\n",
       "2     2              1              1\n",
       "3     3              1              0\n",
       "4     4              1              1\n",
       "6     6              1              0\n",
       "7     7              1              0"
      ]
     },
     "execution_count": 19,
     "metadata": {},
     "output_type": "execute_result"
    }
   ],
   "source": [
    "public_df"
   ]
  },
  {
   "cell_type": "code",
   "execution_count": 20,
   "id": "3ece3097",
   "metadata": {
    "scrolled": true
   },
   "outputs": [
    {
     "data": {
      "text/html": [
       "<div>\n",
       "<style scoped>\n",
       "    .dataframe tbody tr th:only-of-type {\n",
       "        vertical-align: middle;\n",
       "    }\n",
       "\n",
       "    .dataframe tbody tr th {\n",
       "        vertical-align: top;\n",
       "    }\n",
       "\n",
       "    .dataframe thead th {\n",
       "        text-align: right;\n",
       "    }\n",
       "</style>\n",
       "<table border=\"1\" class=\"dataframe\">\n",
       "  <thead>\n",
       "    <tr style=\"text-align: right;\">\n",
       "      <th></th>\n",
       "      <th>ID's</th>\n",
       "      <th>Predictions_x</th>\n",
       "      <th>Predictions_y</th>\n",
       "    </tr>\n",
       "  </thead>\n",
       "  <tbody>\n",
       "    <tr>\n",
       "      <th>5</th>\n",
       "      <td>5</td>\n",
       "      <td>1</td>\n",
       "      <td>1</td>\n",
       "    </tr>\n",
       "    <tr>\n",
       "      <th>8</th>\n",
       "      <td>8</td>\n",
       "      <td>1</td>\n",
       "      <td>0</td>\n",
       "    </tr>\n",
       "    <tr>\n",
       "      <th>9</th>\n",
       "      <td>9</td>\n",
       "      <td>1</td>\n",
       "      <td>0</td>\n",
       "    </tr>\n",
       "  </tbody>\n",
       "</table>\n",
       "</div>"
      ],
      "text/plain": [
       "   ID's  Predictions_x  Predictions_y\n",
       "5     5              1              1\n",
       "8     8              1              0\n",
       "9     9              1              0"
      ]
     },
     "execution_count": 20,
     "metadata": {},
     "output_type": "execute_result"
    }
   ],
   "source": [
    "private_df"
   ]
  },
  {
   "cell_type": "code",
   "execution_count": 31,
   "id": "6073ed49",
   "metadata": {},
   "outputs": [],
   "source": [
    "public_df[\"YesNo\"] = public_df[\"Predictions_x\"] == public_df[\"Predictions_y\"]\n",
    "\n",
    "private_df[\"YesNo\"] = private_df[\"Predictions_x\"] == private_df[\"Predictions_y\"]"
   ]
  },
  {
   "cell_type": "code",
   "execution_count": null,
   "id": "ff45967f",
   "metadata": {},
   "outputs": [],
   "source": []
  },
  {
   "cell_type": "code",
   "execution_count": 36,
   "id": "4d9dd6ee",
   "metadata": {},
   "outputs": [
    {
     "name": "stdout",
     "output_type": "stream",
     "text": [
      "Public Value Count True and False [4, 3]\n",
      "private Value Count True and False [2, 1]\n"
     ]
    }
   ],
   "source": [
    "public_counts = public_df[\"YesNo\"].value_counts().tolist()\n",
    "print(\"Public Value Count True and False\", public_counts)\n",
    "\n",
    "private_counts = private_df[\"YesNo\"].value_counts().tolist()\n",
    "print(\"private Value Count True and False\", private_counts)"
   ]
  },
  {
   "cell_type": "code",
   "execution_count": 37,
   "id": "c69a1fba",
   "metadata": {
    "scrolled": true
   },
   "outputs": [
    {
     "name": "stdout",
     "output_type": "stream",
     "text": [
      "Length of public data 7\n",
      "Lenght of private data 3\n"
     ]
    }
   ],
   "source": [
    "public_len = len(public_df)\n",
    "print(\"Length of public data\", public_len)\n",
    "\n",
    "private_len = len(private_df)\n",
    "print(\"Lenght of private data\",private_len)"
   ]
  },
  {
   "cell_type": "code",
   "execution_count": 29,
   "id": "c51fbe01",
   "metadata": {},
   "outputs": [
    {
     "data": {
      "text/plain": [
       "57.14285714285714"
      ]
     },
     "execution_count": 29,
     "metadata": {},
     "output_type": "execute_result"
    }
   ],
   "source": [
    "public_classification_accuracy = (public_counts[0] / public_len) * 100\n",
    "public_classification_accuracy"
   ]
  },
  {
   "cell_type": "code",
   "execution_count": 35,
   "id": "eca14d89",
   "metadata": {},
   "outputs": [
    {
     "data": {
      "text/plain": [
       "66.66666666666666"
      ]
     },
     "execution_count": 35,
     "metadata": {},
     "output_type": "execute_result"
    }
   ],
   "source": [
    "private_classfication_accuracy = (private_counts[0] / private_len) * 100\n",
    "private_classfication_accuracy"
   ]
  },
  {
   "cell_type": "code",
   "execution_count": null,
   "id": "49d5f145",
   "metadata": {},
   "outputs": [],
   "source": []
  },
  {
   "cell_type": "code",
   "execution_count": 5,
   "id": "db397bc7",
   "metadata": {},
   "outputs": [],
   "source": [
    "import pandas as pd\n",
    "import numpy as np"
   ]
  },
  {
   "cell_type": "code",
   "execution_count": 6,
   "id": "b5b83915",
   "metadata": {},
   "outputs": [],
   "source": [
    "true_df = pd.read_csv(\"true_preds.csv\")\n",
    "user_df = pd.read_csv(\"user_preds.csv\")"
   ]
  },
  {
   "cell_type": "code",
   "execution_count": 7,
   "id": "501c2cb3",
   "metadata": {},
   "outputs": [],
   "source": [
    "def Compare_CSV(true_df, user_df):\n",
    "    \n",
    "    # Merging true dataframe and user dataframe on the basis of ID into a single dataframe\n",
    "    df = pd.merge(true_df, user_df, on = \"ID's\")\n",
    "    \n",
    "    # Seperating as 2 different dataframes private and public  \n",
    "    public_df = df[df[\"TestCase\"] == \"public\"]\n",
    "    private_df = df[df[\"TestCase\"] == \"private\"]\n",
    "    \n",
    "    # As the two dataframes are splitted on the basis of public and private we don't need the labels so droping them\n",
    "    public_df = public_df.drop(\"TestCase\", axis = 1)\n",
    "    private_df = private_df.drop(\"TestCase\", axis = 1)\n",
    "    \n",
    "    # Creating a new column which compares the values from true prediction and user prediction \n",
    "    # sets as True or False based on weather the value is matching or not\n",
    "    # This is vecotrization and is faster than \"isin\" method \n",
    "    public_df[\"YesNo\"] = (public_df[\"Predictions_x\"] == public_df[\"Predictions_y\"])\n",
    "    private_df[\"YesNo\"] = (private_df[\"Predictions_x\"] == private_df[\"Predictions_y\"])\n",
    "    \n",
    "    # getting the counts for public and private value counts \n",
    "    # gives a list of values [count of Ture, count of False]\n",
    "    public_counts = public_df[\"YesNo\"].value_counts().tolist()\n",
    "    private_counts = private_df[\"YesNo\"].value_counts().tolist()\n",
    "    \n",
    "    # calculating the public and private length of the dtaframe\n",
    "    public_len = len(public_df)\n",
    "    private_len = len(private_df)\n",
    "    \n",
    "    public_classification_accuracy = (public_counts[0] / public_len) * 100\n",
    "    print(\"Public classification accuracy: \",public_classification_accuracy)\n",
    "    \n",
    "    private_classfication_accuracy = (private_counts[0] / private_len) * 100\n",
    "    print(\"Private classification accuracy: \", private_classfication_accuracy)"
   ]
  },
  {
   "cell_type": "code",
   "execution_count": 8,
   "id": "04e08bc5",
   "metadata": {
    "scrolled": false
   },
   "outputs": [
    {
     "name": "stdout",
     "output_type": "stream",
     "text": [
      "Public classification accuracy:  57.14285714285714\n",
      "Private classification accuracy:  66.66666666666666\n"
     ]
    }
   ],
   "source": [
    "Compare_CSV(true_df, user_df)"
   ]
  },
  {
   "cell_type": "code",
   "execution_count": 9,
   "id": "6b36d29f",
   "metadata": {},
   "outputs": [],
   "source": [
    "import glob\n",
    "import os"
   ]
  },
  {
   "cell_type": "code",
   "execution_count": 13,
   "id": "08e2b77d",
   "metadata": {},
   "outputs": [],
   "source": [
    "true_df = pd.read_csv(\"true_preds.csv\")\n",
    "\n",
    "path = \"D:/VIT/SEM6/CSE4020-ML/Jcomp/User_Data\"\n",
    "all_files = glob.glob(os.path.join(path, \"/*.csv\"))\n",
    "\n",
    "li = []\n",
    "\n",
    "for filename in all_files:\n",
    "    user_df = pd.read_csv(filename)\n",
    "    li.append(user_df)\n",
    "    \n"
   ]
  },
  {
   "cell_type": "code",
   "execution_count": null,
   "id": "258ee6bf",
   "metadata": {},
   "outputs": [],
   "source": []
  }
 ],
 "metadata": {
  "kernelspec": {
   "display_name": "Python 3 (ipykernel)",
   "language": "python",
   "name": "python3"
  },
  "language_info": {
   "codemirror_mode": {
    "name": "ipython",
    "version": 3
   },
   "file_extension": ".py",
   "mimetype": "text/x-python",
   "name": "python",
   "nbconvert_exporter": "python",
   "pygments_lexer": "ipython3",
   "version": "3.9.12"
  }
 },
 "nbformat": 4,
 "nbformat_minor": 5
}
