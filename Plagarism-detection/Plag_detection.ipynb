{
 "cells": [
  {
   "cell_type": "code",
   "execution_count": 1,
   "id": "48d39c50",
   "metadata": {},
   "outputs": [],
   "source": [
    "from copydetect import CopyDetector"
   ]
  },
  {
   "cell_type": "code",
   "execution_count": 2,
   "id": "10ff8ac1",
   "metadata": {},
   "outputs": [],
   "source": [
    "d = CopyDetector(test_dirs = ['User_Data'], extensions = ['py'], display_t = 0.5)"
   ]
  },
  {
   "cell_type": "code",
   "execution_count": 3,
   "id": "cefcca0b",
   "metadata": {},
   "outputs": [],
   "source": [
    "d.add_file(\"copydetect/utils.py\")"
   ]
  },
  {
   "cell_type": "code",
   "execution_count": 4,
   "id": "cf2244f9",
   "metadata": {},
   "outputs": [
    {
     "name": "stdout",
     "output_type": "stream",
     "text": [
      "  0.00: Generating file fingerprints\n"
     ]
    },
    {
     "name": "stderr",
     "output_type": "stream",
     "text": [
      "   100%|███████████████████████████████████████████████████████████████████████████████| 14/14 [00:03<00:00,  4.32it/s]\n"
     ]
    },
    {
     "name": "stdout",
     "output_type": "stream",
     "text": [
      "  3.26: Beginning code comparison\n"
     ]
    },
    {
     "name": "stderr",
     "output_type": "stream",
     "text": [
      "   100%|████████████████████████████████████████████████████████████████████████████████| 7/7 [00:00<00:00, 467.12it/s]"
     ]
    },
    {
     "name": "stdout",
     "output_type": "stream",
     "text": [
      "  3.28: Code comparison completed\n"
     ]
    },
    {
     "name": "stderr",
     "output_type": "stream",
     "text": [
      "\n"
     ]
    }
   ],
   "source": [
    "d.run()"
   ]
  },
  {
   "cell_type": "code",
   "execution_count": 6,
   "id": "fbf08327",
   "metadata": {},
   "outputs": [
    {
     "name": "stdout",
     "output_type": "stream",
     "text": [
      "Output saved to ./report.html\n"
     ]
    }
   ],
   "source": [
    "d.generate_html_report()"
   ]
  }
 ],
 "metadata": {
  "kernelspec": {
   "display_name": "Python 3 (ipykernel)",
   "language": "python",
   "name": "python3"
  },
  "language_info": {
   "codemirror_mode": {
    "name": "ipython",
    "version": 3
   },
   "file_extension": ".py",
   "mimetype": "text/x-python",
   "name": "python",
   "nbconvert_exporter": "python",
   "pygments_lexer": "ipython3",
   "version": "3.9.12"
  }
 },
 "nbformat": 4,
 "nbformat_minor": 5
}
